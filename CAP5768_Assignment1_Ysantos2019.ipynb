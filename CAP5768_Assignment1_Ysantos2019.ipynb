{
 "cells": [
  {
   "cell_type": "markdown",
   "metadata": {
    "colab_type": "text",
    "id": "p78j872pOKTZ"
   },
   "source": [
    "# CAP 5768 - Data Science - Dr. Marques - Fall 2019"
   ]
  },
  {
   "cell_type": "markdown",
   "metadata": {
    "colab_type": "text",
    "id": "NYmNMHGLOKTa"
   },
   "source": [
    "# Assignment 1: The Python data science stack \n",
    "## Solutions"
   ]
  },
  {
   "cell_type": "markdown",
   "metadata": {
    "colab_type": "text",
    "id": "9UMnsRndOKTb"
   },
   "source": [
    "### Goals \n",
    "\n",
    "- To get acquainted with Python and Jupyter notebooks.\n",
    "- To acquire a basic understanding of the Python \"data science stack\" (NumPy, Pandas, Matplotlib).\n",
    "- To have an early experience of manipulating, summarizing, and visualizing small datasets. \n",
    "- To demonstrate the ability to write Python code to answer questions and test hypotheses based on the contents of those datasets.\n"
   ]
  },
  {
   "cell_type": "markdown",
   "metadata": {
    "colab_type": "text",
    "id": "B0rEAT7MOKTb"
   },
   "source": [
    "### Instructions\n",
    "\n",
    "- This assignment is structured as a game, with three levels of increasing complexity.\n",
    "- For each level, there will be some Python code to be written and questions to be answered.\n",
    "- At the end, you should export your notebook to PDF format; it will \"automagically\" become your report.\n",
    "- Submit the report (PDF), notebook (.ipynb file), and (optionally) link to the \"live\" version of your solution on Google Colaboratory via Canvas.\n",
    "- The total number of points is 320 (plus up to 44 bonus points), distributed as follows: Level 1 (82 pts), Level 2 (70+ pts), Level 3 (132+ pts) and Conclusions (36 pts)."
   ]
  },
  {
   "cell_type": "markdown",
   "metadata": {
    "colab_type": "text",
    "id": "qiufouQn6OD9"
   },
   "source": [
    "### Important\n",
    "\n",
    "- It is OK to attempt the bonus points, but please **do not overdo it!** \n",
    "- Remember: this is an early exercise in exploring datasets; learning the syntax and \"tricks\" of Python, Jupyter notebooks, Numpy, Pandas, and Matplotlib; and writing code to test simple hypotheses and produce answers to simple questions that **you know you should be able to answer** because the answer can be pulled from the data.\n",
    "- This is not (yet) the time to do sophisticated statistical analysis, train ML models, etc. "
   ]
  },
  {
   "cell_type": "code",
   "execution_count": 19,
   "metadata": {},
   "outputs": [
    {
     "name": "stdout",
     "output_type": "stream",
     "text": [
      "b-a-t\n"
     ]
    }
   ],
   "source": [
    "truth = \"beauty\"\n",
    "index = 0\n",
    "letters = []\n",
    "while index < len(truth):\n",
    "    letters.append(truth[index])\n",
    "    index += 2\n",
    "\n",
    "letters = '-'.join(letters)\n",
    "print(letters)"
   ]
  },
  {
   "cell_type": "markdown",
   "metadata": {
    "colab_type": "text",
    "id": "ivz9CfpTOKTc"
   },
   "source": [
    "------------\n",
    "## Level 1: Presidents of the USA"
   ]
  },
  {
   "cell_type": "markdown",
   "metadata": {
    "colab_type": "text",
    "id": "F0XHAppiOKTc"
   },
   "source": [
    "The Python code below will load a dataset containing the names of the first 44 presidents of the USA and their heights, available in the file *president_heights.csv*, which is a simple comma-separated list of labels and values."
   ]
  },
  {
   "cell_type": "code",
   "execution_count": 1,
   "metadata": {
    "colab": {},
    "colab_type": "code",
    "id": "DhBN2XWifsFx"
   },
   "outputs": [],
   "source": [
    "# Imports\n",
    "import numpy as np\n",
    "import pandas as pd\n",
    "from pandas import DataFrame, Series\n",
    "\n",
    "%matplotlib inline\n",
    "import matplotlib.pyplot as plt\n",
    "import seaborn as sns\n",
    "\n",
    "from scipy.stats import pearsonr"
   ]
  },
  {
   "cell_type": "code",
   "execution_count": 2,
   "metadata": {
    "colab": {
     "base_uri": "https://localhost:8080/",
     "height": 1000
    },
    "colab_type": "code",
    "id": "7IhX_GLmOKTd",
    "outputId": "db182542-cd14-4362-ea81-93e862cbb32b",
    "scrolled": true
   },
   "outputs": [
    {
     "data": {
      "text/html": [
       "<div>\n",
       "<style scoped>\n",
       "    .dataframe tbody tr th:only-of-type {\n",
       "        vertical-align: middle;\n",
       "    }\n",
       "\n",
       "    .dataframe tbody tr th {\n",
       "        vertical-align: top;\n",
       "    }\n",
       "\n",
       "    .dataframe thead th {\n",
       "        text-align: right;\n",
       "    }\n",
       "</style>\n",
       "<table border=\"1\" class=\"dataframe\">\n",
       "  <thead>\n",
       "    <tr style=\"text-align: right;\">\n",
       "      <th></th>\n",
       "      <th>order</th>\n",
       "      <th>name</th>\n",
       "      <th>height(cm)</th>\n",
       "    </tr>\n",
       "  </thead>\n",
       "  <tbody>\n",
       "    <tr>\n",
       "      <th>0</th>\n",
       "      <td>1</td>\n",
       "      <td>George Washington</td>\n",
       "      <td>189</td>\n",
       "    </tr>\n",
       "    <tr>\n",
       "      <th>1</th>\n",
       "      <td>2</td>\n",
       "      <td>John Adams</td>\n",
       "      <td>170</td>\n",
       "    </tr>\n",
       "    <tr>\n",
       "      <th>2</th>\n",
       "      <td>3</td>\n",
       "      <td>Thomas Jefferson</td>\n",
       "      <td>189</td>\n",
       "    </tr>\n",
       "    <tr>\n",
       "      <th>3</th>\n",
       "      <td>4</td>\n",
       "      <td>James Madison</td>\n",
       "      <td>163</td>\n",
       "    </tr>\n",
       "    <tr>\n",
       "      <th>4</th>\n",
       "      <td>5</td>\n",
       "      <td>James Monroe</td>\n",
       "      <td>183</td>\n",
       "    </tr>\n",
       "    <tr>\n",
       "      <th>5</th>\n",
       "      <td>6</td>\n",
       "      <td>John Quincy Adams</td>\n",
       "      <td>171</td>\n",
       "    </tr>\n",
       "    <tr>\n",
       "      <th>6</th>\n",
       "      <td>7</td>\n",
       "      <td>Andrew Jackson</td>\n",
       "      <td>185</td>\n",
       "    </tr>\n",
       "    <tr>\n",
       "      <th>7</th>\n",
       "      <td>8</td>\n",
       "      <td>Martin Van Buren</td>\n",
       "      <td>168</td>\n",
       "    </tr>\n",
       "    <tr>\n",
       "      <th>8</th>\n",
       "      <td>9</td>\n",
       "      <td>William Henry Harrison</td>\n",
       "      <td>173</td>\n",
       "    </tr>\n",
       "    <tr>\n",
       "      <th>9</th>\n",
       "      <td>10</td>\n",
       "      <td>John Tyler</td>\n",
       "      <td>183</td>\n",
       "    </tr>\n",
       "    <tr>\n",
       "      <th>10</th>\n",
       "      <td>11</td>\n",
       "      <td>James K. Polk</td>\n",
       "      <td>173</td>\n",
       "    </tr>\n",
       "    <tr>\n",
       "      <th>11</th>\n",
       "      <td>12</td>\n",
       "      <td>Zachary Taylor</td>\n",
       "      <td>173</td>\n",
       "    </tr>\n",
       "    <tr>\n",
       "      <th>12</th>\n",
       "      <td>13</td>\n",
       "      <td>Millard Fillmore</td>\n",
       "      <td>175</td>\n",
       "    </tr>\n",
       "    <tr>\n",
       "      <th>13</th>\n",
       "      <td>14</td>\n",
       "      <td>Franklin Pierce</td>\n",
       "      <td>178</td>\n",
       "    </tr>\n",
       "    <tr>\n",
       "      <th>14</th>\n",
       "      <td>15</td>\n",
       "      <td>James Buchanan</td>\n",
       "      <td>183</td>\n",
       "    </tr>\n",
       "    <tr>\n",
       "      <th>15</th>\n",
       "      <td>16</td>\n",
       "      <td>Abraham Lincoln</td>\n",
       "      <td>193</td>\n",
       "    </tr>\n",
       "    <tr>\n",
       "      <th>16</th>\n",
       "      <td>17</td>\n",
       "      <td>Andrew Johnson</td>\n",
       "      <td>178</td>\n",
       "    </tr>\n",
       "    <tr>\n",
       "      <th>17</th>\n",
       "      <td>18</td>\n",
       "      <td>Ulysses S. Grant</td>\n",
       "      <td>173</td>\n",
       "    </tr>\n",
       "    <tr>\n",
       "      <th>18</th>\n",
       "      <td>19</td>\n",
       "      <td>Rutherford B. Hayes</td>\n",
       "      <td>174</td>\n",
       "    </tr>\n",
       "    <tr>\n",
       "      <th>19</th>\n",
       "      <td>20</td>\n",
       "      <td>James A. Garfield</td>\n",
       "      <td>183</td>\n",
       "    </tr>\n",
       "    <tr>\n",
       "      <th>20</th>\n",
       "      <td>21</td>\n",
       "      <td>Chester A. Arthur</td>\n",
       "      <td>183</td>\n",
       "    </tr>\n",
       "    <tr>\n",
       "      <th>21</th>\n",
       "      <td>23</td>\n",
       "      <td>Benjamin Harrison</td>\n",
       "      <td>168</td>\n",
       "    </tr>\n",
       "    <tr>\n",
       "      <th>22</th>\n",
       "      <td>25</td>\n",
       "      <td>William McKinley</td>\n",
       "      <td>170</td>\n",
       "    </tr>\n",
       "    <tr>\n",
       "      <th>23</th>\n",
       "      <td>26</td>\n",
       "      <td>Theodore Roosevelt</td>\n",
       "      <td>178</td>\n",
       "    </tr>\n",
       "    <tr>\n",
       "      <th>24</th>\n",
       "      <td>27</td>\n",
       "      <td>William Howard Taft</td>\n",
       "      <td>182</td>\n",
       "    </tr>\n",
       "    <tr>\n",
       "      <th>25</th>\n",
       "      <td>28</td>\n",
       "      <td>Woodrow Wilson</td>\n",
       "      <td>180</td>\n",
       "    </tr>\n",
       "    <tr>\n",
       "      <th>26</th>\n",
       "      <td>29</td>\n",
       "      <td>Warren G. Harding</td>\n",
       "      <td>183</td>\n",
       "    </tr>\n",
       "    <tr>\n",
       "      <th>27</th>\n",
       "      <td>30</td>\n",
       "      <td>Calvin Coolidge</td>\n",
       "      <td>178</td>\n",
       "    </tr>\n",
       "    <tr>\n",
       "      <th>28</th>\n",
       "      <td>31</td>\n",
       "      <td>Herbert Hoover</td>\n",
       "      <td>182</td>\n",
       "    </tr>\n",
       "    <tr>\n",
       "      <th>29</th>\n",
       "      <td>32</td>\n",
       "      <td>Franklin D. Roosevelt</td>\n",
       "      <td>188</td>\n",
       "    </tr>\n",
       "    <tr>\n",
       "      <th>30</th>\n",
       "      <td>33</td>\n",
       "      <td>Harry S. Truman</td>\n",
       "      <td>175</td>\n",
       "    </tr>\n",
       "    <tr>\n",
       "      <th>31</th>\n",
       "      <td>34</td>\n",
       "      <td>Dwight D. Eisenhower</td>\n",
       "      <td>179</td>\n",
       "    </tr>\n",
       "    <tr>\n",
       "      <th>32</th>\n",
       "      <td>35</td>\n",
       "      <td>John F. Kennedy</td>\n",
       "      <td>183</td>\n",
       "    </tr>\n",
       "    <tr>\n",
       "      <th>33</th>\n",
       "      <td>36</td>\n",
       "      <td>Lyndon B. Johnson</td>\n",
       "      <td>193</td>\n",
       "    </tr>\n",
       "    <tr>\n",
       "      <th>34</th>\n",
       "      <td>37</td>\n",
       "      <td>Richard Nixon</td>\n",
       "      <td>182</td>\n",
       "    </tr>\n",
       "    <tr>\n",
       "      <th>35</th>\n",
       "      <td>38</td>\n",
       "      <td>Gerald Ford</td>\n",
       "      <td>183</td>\n",
       "    </tr>\n",
       "    <tr>\n",
       "      <th>36</th>\n",
       "      <td>39</td>\n",
       "      <td>Jimmy Carter</td>\n",
       "      <td>177</td>\n",
       "    </tr>\n",
       "    <tr>\n",
       "      <th>37</th>\n",
       "      <td>40</td>\n",
       "      <td>Ronald Reagan</td>\n",
       "      <td>185</td>\n",
       "    </tr>\n",
       "    <tr>\n",
       "      <th>38</th>\n",
       "      <td>41</td>\n",
       "      <td>George H. W. Bush</td>\n",
       "      <td>188</td>\n",
       "    </tr>\n",
       "    <tr>\n",
       "      <th>39</th>\n",
       "      <td>42</td>\n",
       "      <td>Bill Clinton</td>\n",
       "      <td>188</td>\n",
       "    </tr>\n",
       "    <tr>\n",
       "      <th>40</th>\n",
       "      <td>43</td>\n",
       "      <td>George W. Bush</td>\n",
       "      <td>182</td>\n",
       "    </tr>\n",
       "    <tr>\n",
       "      <th>41</th>\n",
       "      <td>44</td>\n",
       "      <td>Barack Obama</td>\n",
       "      <td>185</td>\n",
       "    </tr>\n",
       "  </tbody>\n",
       "</table>\n",
       "</div>"
      ],
      "text/plain": [
       "    order                    name  height(cm)\n",
       "0       1       George Washington         189\n",
       "1       2              John Adams         170\n",
       "2       3        Thomas Jefferson         189\n",
       "3       4           James Madison         163\n",
       "4       5            James Monroe         183\n",
       "5       6       John Quincy Adams         171\n",
       "6       7          Andrew Jackson         185\n",
       "7       8        Martin Van Buren         168\n",
       "8       9  William Henry Harrison         173\n",
       "9      10              John Tyler         183\n",
       "10     11           James K. Polk         173\n",
       "11     12          Zachary Taylor         173\n",
       "12     13        Millard Fillmore         175\n",
       "13     14         Franklin Pierce         178\n",
       "14     15          James Buchanan         183\n",
       "15     16         Abraham Lincoln         193\n",
       "16     17          Andrew Johnson         178\n",
       "17     18        Ulysses S. Grant         173\n",
       "18     19     Rutherford B. Hayes         174\n",
       "19     20       James A. Garfield         183\n",
       "20     21       Chester A. Arthur         183\n",
       "21     23       Benjamin Harrison         168\n",
       "22     25        William McKinley         170\n",
       "23     26      Theodore Roosevelt         178\n",
       "24     27     William Howard Taft         182\n",
       "25     28          Woodrow Wilson         180\n",
       "26     29       Warren G. Harding         183\n",
       "27     30         Calvin Coolidge         178\n",
       "28     31          Herbert Hoover         182\n",
       "29     32   Franklin D. Roosevelt         188\n",
       "30     33         Harry S. Truman         175\n",
       "31     34    Dwight D. Eisenhower         179\n",
       "32     35         John F. Kennedy         183\n",
       "33     36       Lyndon B. Johnson         193\n",
       "34     37           Richard Nixon         182\n",
       "35     38             Gerald Ford         183\n",
       "36     39            Jimmy Carter         177\n",
       "37     40           Ronald Reagan         185\n",
       "38     41       George H. W. Bush         188\n",
       "39     42            Bill Clinton         188\n",
       "40     43          George W. Bush         182\n",
       "41     44            Barack Obama         185"
      ]
     },
     "execution_count": 2,
     "metadata": {},
     "output_type": "execute_result"
    }
   ],
   "source": [
    "file = 'data/president_heights.csv'\n",
    "presidents = pd.read_csv(file) \n",
    "presidents"
   ]
  },
  {
   "cell_type": "markdown",
   "metadata": {
    "colab_type": "text",
    "id": "Sf9JB_ntOKTg"
   },
   "source": [
    "## Your turn! (8 points)\n",
    "\n",
    "Write code to display the histogram (4 pts) of president's heights and compute summary statistics (4 pts): \n",
    "\n",
    "- Mean height\n",
    "- Standard deviation\n",
    "- Minimum height, and \n",
    "- Maximum height."
   ]
  },
  {
   "cell_type": "markdown",
   "metadata": {
    "colab_type": "text",
    "id": "tdOZPjis7Phf"
   },
   "source": [
    "## Solution"
   ]
  },
  {
   "cell_type": "code",
   "execution_count": 3,
   "metadata": {
    "colab": {},
    "colab_type": "code",
    "id": "BQkN1WvQOKTi"
   },
   "outputs": [
    {
     "name": "stdout",
     "output_type": "stream",
     "text": [
      "[189 170 189 163 183 171 185 168 173 183 173 173 175 178 183 193 178 173\n",
      " 174 183 183 168 170 178 182 180 183 178 182 188 175 179 183 193 182 183\n",
      " 177 185 188 188 182 185]\n",
      "Mean height:  179.73809523809524\n",
      "Standard deviation: 6.931843442745892\n",
      "Minimum height:  163\n",
      "Maximum height:  193\n"
     ]
    },
    {
     "data": {
      "image/png": "[encoded data removed]",
      "text/plain": [
       "<Figure size 432x288 with 1 Axes>"
      ]
     },
     "metadata": {
      "needs_background": "light"
     },
     "output_type": "display_data"
    }
   ],
   "source": [
    "# ENTER YOUR CODE HERE\n",
    "# ...\n",
    "import pandas as pd\n",
    "data = pd.read_csv('data/president_heights.csv')\n",
    "heights = np.array(data['height(cm)'])\n",
    "print(heights)\n",
    "file = 'data/president_heights.csv'\n",
    "presidents = pd.read_csv(file) \n",
    "\n",
    "print(\"Mean height: \", heights.mean())\n",
    "print(\"Standard deviation:\", heights.std())\n",
    "print(\"Minimum height: \", heights.min())\n",
    "print(\"Maximum height: \", heights.max())\n",
    "# ...\n",
    "\n",
    "#%matplotlib inline\n",
    "#import matplotlib.pyplot as plt\n",
    "#import seaborn; seaborn.set() # set plot style\n",
    "plt.hist(heights)\n",
    "plt.title('Height Distribution of US Presidents')\n",
    "plt.xlabel('height (cm)')\n",
    "plt.ylabel('number');"
   ]
  },
  {
   "cell_type": "markdown",
   "metadata": {
    "colab_type": "text",
    "id": "BbUZtqu7OKTl"
   },
   "source": [
    "## Your turn! (18 points)\n",
    "\n",
    "Write Python code to answer the following questions (make sure the messages displayed by your code are complete and descriptive enough):\n",
    "\n",
    "1. Who was(were) the tallest president(s)?\n",
    "2. Who was(were) the shortest president(s)?\n",
    "3. How many presidents were 6' tall or taller?"
   ]
  },
  {
   "cell_type": "markdown",
   "metadata": {
    "colab_type": "text",
    "id": "eWDwcuiz7Wiz"
   },
   "source": [
    "## Solution"
   ]
  },
  {
   "cell_type": "code",
   "execution_count": 4,
   "metadata": {
    "colab": {},
    "colab_type": "code",
    "id": "ZZqA7kEWOKTl"
   },
   "outputs": [
    {
     "data": {
      "text/plain": [
       "15      Abraham Lincoln\n",
       "33    Lyndon B. Johnson\n",
       "Name: name, dtype: object"
      ]
     },
     "execution_count": 4,
     "metadata": {},
     "output_type": "execute_result"
    }
   ],
   "source": [
    "import pandas as pd\n",
    "data = pd.read_csv('data/president_heights.csv')\n",
    "heights = np.array(data['height(cm)'])\n",
    "#print(heights)\n",
    "names = np.array(data['name'])\n",
    "#print(names)\n",
    "#order= np.array(data['order'])\n",
    "#print(order)\n",
    "file = 'data/president_heights.csv'\n",
    "presidents = pd.read_csv(file) \n",
    "\n",
    "#**CHECK BOOK - 2.09 STRUCTURED DATA NUMPY**\n",
    "#Who was(were) the tallest president(s)?\n",
    "data[data['height(cm)']>192]['name'] # we know height max. = 193\n",
    "\n",
    "\n"
   ]
  },
  {
   "cell_type": "code",
   "execution_count": 5,
   "metadata": {},
   "outputs": [
    {
     "data": {
      "text/plain": [
       "3    James Madison\n",
       "Name: name, dtype: object"
      ]
     },
     "execution_count": 5,
     "metadata": {},
     "output_type": "execute_result"
    }
   ],
   "source": [
    "#Who was(were) the shortest president(s)?\n",
    "data[data['height(cm)']<164]['name']  #we know: height min = 163"
   ]
  },
  {
   "cell_type": "code",
   "execution_count": 6,
   "metadata": {},
   "outputs": [
    {
     "name": "stdout",
     "output_type": "stream",
     "text": [
      "6 feet is:  182.88 cm\n"
     ]
    }
   ],
   "source": [
    "#python conversion: feet to cm\n",
    "\n",
    "h_ft = 6.00\n",
    "ft_in_cm = 30.48\n",
    "h_cm = float(h_ft * ft_in_cm)\n",
    "print(\"6 feet is: \",h_cm,\"cm\")\n",
    "#print(\"6 feet is:  %d cm.\" % h_cm)\n"
   ]
  },
  {
   "cell_type": "code",
   "execution_count": 7,
   "metadata": {},
   "outputs": [
    {
     "data": {
      "text/plain": [
       "0         George Washington\n",
       "2          Thomas Jefferson\n",
       "4              James Monroe\n",
       "6            Andrew Jackson\n",
       "9                John Tyler\n",
       "14           James Buchanan\n",
       "15          Abraham Lincoln\n",
       "19        James A. Garfield\n",
       "20        Chester A. Arthur\n",
       "26        Warren G. Harding\n",
       "29    Franklin D. Roosevelt\n",
       "32          John F. Kennedy\n",
       "33        Lyndon B. Johnson\n",
       "35              Gerald Ford\n",
       "37            Ronald Reagan\n",
       "38        George H. W. Bush\n",
       "39             Bill Clinton\n",
       "41             Barack Obama\n",
       "Name: name, dtype: object"
      ]
     },
     "execution_count": 7,
     "metadata": {},
     "output_type": "execute_result"
    }
   ],
   "source": [
    "#How many presidents were 6' tall or taller?\n",
    "data[data['height(cm)']>182.88]['name'] #we know 6ft = 182.88cm\n",
    "\n"
   ]
  },
  {
   "cell_type": "markdown",
   "metadata": {
    "colab_type": "text",
    "id": "YNr4O_tHOKTn"
   },
   "source": [
    "-------------\n",
    "\n",
    "This is an extremely small, simple and manageable dataset. \n",
    "\n",
    "Let's use it to prove a silly hypotheses, for example: \n",
    "\n",
    "\"H1: Even-numbered presidents are, in average, taller than odd-numbered ones.\" "
   ]
  },
  {
   "cell_type": "markdown",
   "metadata": {
    "colab_type": "text",
    "id": "KurMrocpOKTo"
   },
   "source": [
    "## Your turn! (24 points)\n",
    "\n",
    "Write Python code to test hypothesis H1."
   ]
  },
  {
   "cell_type": "markdown",
   "metadata": {
    "colab_type": "text",
    "id": "5jY56oY97Yvp"
   },
   "source": [
    "## Solution"
   ]
  },
  {
   "cell_type": "code",
   "execution_count": 8,
   "metadata": {
    "colab": {},
    "colab_type": "code",
    "id": "A4QFk_ktOKTo"
   },
   "outputs": [
    {
     "name": "stdout",
     "output_type": "stream",
     "text": [
      "Mean height of even-numbered presidents :  180.42857142857142\n"
     ]
    }
   ],
   "source": [
    "#**CHECK BOOK --- THE BASICS OF NUMPY ARRAYS - One-dimensional subarrays**\n",
    "heights[::2]  # every other president's height (even)\n",
    "print(\"Mean height of even-numbered presidents : \", heights[::2].mean())\n"
   ]
  },
  {
   "cell_type": "code",
   "execution_count": 9,
   "metadata": {},
   "outputs": [
    {
     "name": "stdout",
     "output_type": "stream",
     "text": [
      "Mean height of odd-numbered presidents :  179.04761904761904\n"
     ]
    }
   ],
   "source": [
    "heights[1::2]  # every other president's height, starting at index 1(odd)\n",
    "print(\"Mean height of odd-numbered presidents : \", heights[1::2].mean())"
   ]
  },
  {
   "cell_type": "markdown",
   "metadata": {
    "colab_type": "text",
    "id": "TTEVu2FjOKTq"
   },
   "source": [
    "## Question 1 (4 points)\n",
    "\n",
    "Was hypothesis H1 confirmed or refuted?"
   ]
  },
  {
   "cell_type": "markdown",
   "metadata": {
    "colab_type": "text",
    "id": "dv-bu9a77Zit"
   },
   "source": [
    "## Solution"
   ]
  },
  {
   "cell_type": "code",
   "execution_count": 10,
   "metadata": {},
   "outputs": [
    {
     "name": "stdout",
     "output_type": "stream",
     "text": [
      "Even-numbered presidents are, in average, taller than odd-numbered ones just by:  1.3809523809523796 cm more.\n"
     ]
    }
   ],
   "source": [
    "print(\"Even-numbered presidents are, in average, taller than odd-numbered ones just by: \",\n",
    "      heights[::2].mean()-heights[1::2].mean(),\"cm more.\")"
   ]
  },
  {
   "cell_type": "markdown",
   "metadata": {
    "colab_type": "text",
    "id": "KsQUHbQXOKTt"
   },
   "source": [
    "---------------------\n",
    "Now it's time for you to come up with a different (but also silly) hypotheses, which we will call H2. **Be creative!**"
   ]
  },
  {
   "cell_type": "markdown",
   "metadata": {
    "colab_type": "text",
    "id": "IDUa4m4hOKTu"
   },
   "source": [
    "## Your turn! (28 points)\n",
    "\n",
    "Write Python code to test hypothesis H2 (and some text to explain whether it was confirmed or not)."
   ]
  },
  {
   "cell_type": "markdown",
   "metadata": {},
   "source": [
    "H2 : The most frequent height among the president is 183 cm"
   ]
  },
  {
   "cell_type": "markdown",
   "metadata": {
    "colab_type": "text",
    "id": "X2zRCH0R7bG1"
   },
   "source": [
    "## Solution"
   ]
  },
  {
   "cell_type": "code",
   "execution_count": 11,
   "metadata": {
    "colab": {},
    "colab_type": "code",
    "id": "IfCLnKp-OKTv"
   },
   "outputs": [
    {
     "name": "stdout",
     "output_type": "stream",
     "text": [
      "Original Numpy Array :  [189 170 189 163 183 171 185 168 173 183 173 173 175 178 183 193 178 173\n",
      " 174 183 183 168 170 178 182 180 183 178 182 188 175 179 183 193 182 183\n",
      " 177 185 188 188 182 185]\n",
      "Unique Values :  [163 168 170 171 173 174 175 177 178 179 180 182 183 185 188 189 193]\n",
      "Occurrence Count :  [1 2 2 1 4 1 2 1 4 1 1 4 8 3 3 2 2]\n"
     ]
    }
   ],
   "source": [
    "# ENTER YOUR CODE HERE\n",
    "# ...\n",
    "import pandas as pd\n",
    "data = pd.read_csv('data/president_heights.csv')\n",
    "heights = np.array(data['height(cm)'])\n",
    "\n",
    "\n",
    "print('Original Numpy Array : ' , heights)\n",
    " \n",
    "## Get a tuple of unique values & their frequency in numpy array\n",
    "uniqueValues, occurCount = np.unique(heights, return_counts=True)\n",
    " \n",
    "print(\"Unique Values : \" , uniqueValues)\n",
    "print(\"Occurrence Count : \", occurCount)\n",
    "\n"
   ]
  },
  {
   "cell_type": "code",
   "execution_count": 12,
   "metadata": {},
   "outputs": [
    {
     "name": "stdout",
     "output_type": "stream",
     "text": [
      "Unique Values along with occurrence Count\n",
      "163  Occurs :  1  times\n",
      "168  Occurs :  2  times\n",
      "170  Occurs :  2  times\n",
      "171  Occurs :  1  times\n",
      "173  Occurs :  4  times\n",
      "174  Occurs :  1  times\n",
      "175  Occurs :  2  times\n",
      "177  Occurs :  1  times\n",
      "178  Occurs :  4  times\n",
      "179  Occurs :  1  times\n",
      "180  Occurs :  1  times\n",
      "182  Occurs :  4  times\n",
      "183  Occurs :  8  times\n",
      "185  Occurs :  3  times\n",
      "188  Occurs :  3  times\n",
      "189  Occurs :  2  times\n",
      "193  Occurs :  2  times\n"
     ]
    }
   ],
   "source": [
    "# Zip both the arrays\n",
    "listOfUniqueValues = zip(uniqueValues, occurCount)\n",
    " \n",
    "print('Unique Values along with occurrence Count')\n",
    "# Iterate over the zip object\n",
    "for elem in listOfUniqueValues:\n",
    "   print(elem[0] , ' Occurs : ' , elem[1], ' times')"
   ]
  },
  {
   "cell_type": "markdown",
   "metadata": {},
   "source": [
    "The hypothesis H2 is CONFIRMED"
   ]
  },
  {
   "cell_type": "markdown",
   "metadata": {
    "colab_type": "text",
    "id": "G2J9o001OKTx"
   },
   "source": [
    "-------------------\n",
    "## Level 2: HR payroll"
   ]
  },
  {
   "cell_type": "markdown",
   "metadata": {
    "colab_type": "text",
    "id": "T1EXw38-OKTy"
   },
   "source": [
    "The Python code below will load a dataset containing the salaries and demographic data of more than 1000 employees of a hypothetical company, available in the file *salaries.csv*, which is a simple comma-separated list of labels and values."
   ]
  },
  {
   "cell_type": "code",
   "execution_count": 13,
   "metadata": {
    "colab": {
     "base_uri": "https://localhost:8080/",
     "height": 153
    },
    "colab_type": "code",
    "id": "lv1MGinjOKTz",
    "outputId": "41985ef6-75b7-4a23-89d3-0067c285f6e8"
   },
   "outputs": [
    {
     "name": "stdout",
     "output_type": "stream",
     "text": [
      "(1192, 6)\n",
      "earn      1192\n",
      "height    1192\n",
      "sex       1192\n",
      "ed        1192\n",
      "age       1192\n",
      "race      1192\n",
      "dtype: int64\n"
     ]
    }
   ],
   "source": [
    "salaries = pd.read_csv('data/salaries.csv') \n",
    "print(salaries.shape)\n",
    "print(salaries.count())"
   ]
  },
  {
   "cell_type": "markdown",
   "metadata": {
    "colab_type": "text",
    "id": "wxwNfCp1OKT2"
   },
   "source": [
    "## Question 2 (6 points)\n",
    "\n",
    "What is the meaning of each of the six variables/features stored along the columns of the dataset?"
   ]
  },
  {
   "cell_type": "markdown",
   "metadata": {
    "colab_type": "text",
    "id": "eJtlMdhL7cKa"
   },
   "source": [
    "## Solution"
   ]
  },
  {
   "cell_type": "markdown",
   "metadata": {
    "colab_type": "text",
    "id": "QWu0f6VwOKT3"
   },
   "source": [
    "For a 2D array, the shape would be (n,m) where n is the number of rows and m is the number of columns in your array. In this case: (1192, 6), 1192 is the number of rows and 6 the number of columns. In addition, the comand  \"print(salaries.count())\" count the number of rows of each column. In this case, all columns(earn, height, sex, ed, age and race) have the same number of rows, 1192 rows.\n"
   ]
  },
  {
   "cell_type": "markdown",
   "metadata": {
    "colab_type": "text",
    "id": "-bvyTbsZOKT4"
   },
   "source": [
    "--------------------\n",
    "\n",
    "Let's explore the dataset by plotting some graphs and displaying summary statistics. \n",
    "\n",
    "The code below should display:\n",
    "- Min, max, average, and median salary (global)\n",
    "- A histogram of salaries\n",
    "- A scatterplot correlating salaries and years of education\n",
    "- The (Pearson) correlation coefficient between the two variables.\n",
    "\n",
    "This should help us get started."
   ]
  },
  {
   "cell_type": "code",
   "execution_count": 14,
   "metadata": {
    "colab": {
     "base_uri": "https://localhost:8080/",
     "height": 102
    },
    "colab_type": "code",
    "id": "jai0zaQ1OKT5",
    "outputId": "8dc89377-1293-4211-d637-19a84e426389"
   },
   "outputs": [
    {
     "name": "stdout",
     "output_type": "stream",
     "text": [
      "Salary statistics\n",
      "Minimum salary (global): 200.0\n",
      "Maximum salary (global): 200000.0\n",
      "Average salary (global): 23154.773489932886\n",
      "Median  salary (global): 20000.0\n"
     ]
    }
   ],
   "source": [
    "salary = np.array(salaries['earn'])\n",
    "print(\"Salary statistics\")\n",
    "print(\"Minimum salary (global):\", np.min(salary))\n",
    "print(\"Maximum salary (global):\", np.max(salary))\n",
    "print(\"Average salary (global):\", np.mean(salary))\n",
    "print(\"Median  salary (global):\", np.median(salary))"
   ]
  },
  {
   "cell_type": "code",
   "execution_count": 15,
   "metadata": {
    "colab": {
     "base_uri": "https://localhost:8080/",
     "height": 301
    },
    "colab_type": "code",
    "id": "MQSn8R8MOKT6",
    "outputId": "5d1caaa5-c74c-43df-ba49-40710e7fd06d"
   },
   "outputs": [
    {
     "data": {
      "image/png": "[encoded data removed]",
      "text/plain": [
       "<Figure size 432x288 with 1 Axes>"
      ]
     },
     "metadata": {
      "needs_background": "light"
     },
     "output_type": "display_data"
    }
   ],
   "source": [
    "plt.hist(salary)\n",
    "plt.title('Salary Distribution')\n",
    "plt.xlabel('Salary')\n",
    "plt.ylabel('Number of Employees');"
   ]
  },
  {
   "cell_type": "code",
   "execution_count": 16,
   "metadata": {
    "colab": {
     "base_uri": "https://localhost:8080/",
     "height": 301
    },
    "colab_type": "code",
    "id": "DIcrOnZ4OKT8",
    "outputId": "24f5093a-336c-4a43-abb7-7a52b7aa14be"
   },
   "outputs": [
    {
     "data": {
      "image/png": "[encoded data removed]",
      "text/plain": [
       "<Figure size 432x288 with 1 Axes>"
      ]
     },
     "metadata": {
      "needs_background": "light"
     },
     "output_type": "display_data"
    }
   ],
   "source": [
    "years = np.array(salaries['ed'])\n",
    "plt.title('Salary vs. Education Level')\n",
    "plt.ylabel('Salary')\n",
    "plt.xlabel('Years of education');\n",
    "plt.scatter(years , salary, alpha=0.5)\n",
    "plt.show()"
   ]
  },
  {
   "cell_type": "code",
   "execution_count": 17,
   "metadata": {
    "colab": {
     "base_uri": "https://localhost:8080/",
     "height": 34
    },
    "colab_type": "code",
    "id": "fllJH1rfOKT_",
    "outputId": "4370e450-b503-4231-9d2c-c5efad8f289f"
   },
   "outputs": [
    {
     "name": "stdout",
     "output_type": "stream",
     "text": [
      "Correlation coefficient:  0.3399765246894846\n"
     ]
    }
   ],
   "source": [
    "# Compute Pearson coefficient\n",
    "from scipy.stats import pearsonr\n",
    "corr, _ = pearsonr(salary,years)\n",
    "print('Correlation coefficient: ',corr)"
   ]
  },
  {
   "cell_type": "markdown",
   "metadata": {
    "colab_type": "text",
    "id": "-n2_sL4UOKUA"
   },
   "source": [
    "The Pearson correlation coefficient (a value between -1 and 1) can be used to summarize the strength of the linear relationship between two data samples.\n",
    "\n",
    "A simplified way to interpret the result is:\n",
    "- A value of 0 means no correlation\n",
    "- Values below -0.5 or above 0.5 indicates a notable (negative/positive) correlation"
   ]
  },
  {
   "cell_type": "markdown",
   "metadata": {
    "colab_type": "text",
    "id": "oVXf-zPyOKUB"
   },
   "source": [
    "## Your turn! (16+ points)\n",
    "\n",
    "Write code to:\n",
    "\n",
    "1. Display the total headcount and the number (and %) of male and female employees. (4 pts)\n",
    "2. Compute and display the min, max, average, and median salary *per gender*. (12 pts)\n",
    "3. (OPTIONAL) Plot meaningful graphs that could provide insight into the gender inequality (*if any is present*) associated with the salaries in the company. (<= 16 bonus points)\n"
   ]
  },
  {
   "cell_type": "markdown",
   "metadata": {
    "colab_type": "text",
    "id": "s9c3LqKO7fBz"
   },
   "source": [
    "## Solution"
   ]
  },
  {
   "cell_type": "code",
   "execution_count": 57,
   "metadata": {
    "colab": {},
    "colab_type": "code",
    "id": "xGq2LhvGOKUP"
   },
   "outputs": [],
   "source": [
    "import pandas as pd\n",
    "salaries = pd.read_csv('data/salaries.csv')\n",
    "gender = np.array(salaries['sex'])\n",
    "df=pd.DataFrame(salaries)\n"
   ]
  },
  {
   "cell_type": "code",
   "execution_count": 19,
   "metadata": {},
   "outputs": [
    {
     "name": "stdout",
     "output_type": "stream",
     "text": [
      "Headcounting by gender:\n"
     ]
    },
    {
     "data": {
      "text/plain": [
       "female    687\n",
       "male      505\n",
       "Name: sex, dtype: int64"
      ]
     },
     "execution_count": 19,
     "metadata": {},
     "output_type": "execute_result"
    }
   ],
   "source": [
    "#1.Display the total headcount and the number (and %) of male and female employees\n",
    "print('Headcounting by gender:')\n",
    "counts = df.sex.value_counts()\n",
    "counts"
   ]
  },
  {
   "cell_type": "code",
   "execution_count": 20,
   "metadata": {},
   "outputs": [
    {
     "data": {
      "text/plain": [
       "1192"
      ]
     },
     "execution_count": 20,
     "metadata": {},
     "output_type": "execute_result"
    }
   ],
   "source": [
    "#..Define total\n",
    "\n",
    "total = df.count()['sex']\n",
    "total"
   ]
  },
  {
   "cell_type": "code",
   "execution_count": 21,
   "metadata": {},
   "outputs": [
    {
     "name": "stdout",
     "output_type": "stream",
     "text": [
      "Percentage by gender:\n"
     ]
    },
    {
     "data": {
      "text/plain": [
       "female    57.634228\n",
       "male      42.365772\n",
       "Name: sex, dtype: float64"
      ]
     },
     "execution_count": 21,
     "metadata": {},
     "output_type": "execute_result"
    }
   ],
   "source": [
    "print('Percentage by gender:')\n",
    "percentage = (counts/total)*100\n",
    "percentage"
   ]
  },
  {
   "cell_type": "code",
   "execution_count": 22,
   "metadata": {},
   "outputs": [
    {
     "data": {
      "image/png": "[encoded data removed]",
      "text/plain": [
       "<Figure size 576x576 with 1 Axes>"
      ]
     },
     "metadata": {},
     "output_type": "display_data"
    }
   ],
   "source": [
    "colors = ['blue', 'orange']\n",
    "labels = ['female', 'male']\n",
    "plt.pie(percentage, colors=colors, shadow=True, autopct='%1.1f%%')\n",
    "plt.title('Percentage: female vs male')\n",
    "plt.axis('equal');\n",
    "plt.legend(labels)\n",
    "fig = plt.gcf()\n",
    "fig.set_size_inches(8,8);"
   ]
  },
  {
   "cell_type": "code",
   "execution_count": 23,
   "metadata": {},
   "outputs": [
    {
     "name": "stdout",
     "output_type": "stream",
     "text": [
      "Salary per gender (unique values count)\n"
     ]
    },
    {
     "data": {
      "text/plain": [
       "sex     earn    \n",
       "female  10000.0     52\n",
       "        15000.0     52\n",
       "        20000.0     35\n",
       "        12000.0     33\n",
       "        25000.0     33\n",
       "        6000.0      23\n",
       "        8000.0      21\n",
       "        30000.0     21\n",
       "        5000.0      20\n",
       "        24000.0     20\n",
       "        4000.0      17\n",
       "        17000.0     17\n",
       "        18000.0     16\n",
       "        35000.0     15\n",
       "        16000.0     14\n",
       "        22000.0     14\n",
       "        14000.0     13\n",
       "        3000.0      12\n",
       "        11000.0     12\n",
       "        21000.0     12\n",
       "        26000.0     12\n",
       "        7000.0      11\n",
       "        13000.0     11\n",
       "        2000.0      10\n",
       "        1000.0       9\n",
       "        23000.0      9\n",
       "        27000.0      9\n",
       "        28000.0      9\n",
       "        32000.0      9\n",
       "        40000.0      9\n",
       "                    ..\n",
       "male    4100.0       1\n",
       "        5124.0       1\n",
       "        5500.0       1\n",
       "        6530.0       1\n",
       "        7200.0       1\n",
       "        8500.0       1\n",
       "        10500.0      1\n",
       "        13800.0      1\n",
       "        14500.0      1\n",
       "        31500.0      1\n",
       "        32750.0      1\n",
       "        35900.0      1\n",
       "        47000.0      1\n",
       "        49000.0      1\n",
       "        52000.0      1\n",
       "        53000.0      1\n",
       "        57000.0      1\n",
       "        58000.0      1\n",
       "        69000.0      1\n",
       "        75000.0      1\n",
       "        85000.0      1\n",
       "        89000.0      1\n",
       "        95000.0      1\n",
       "        105000.0     1\n",
       "        110000.0     1\n",
       "        125000.0     1\n",
       "        148000.0     1\n",
       "        170000.0     1\n",
       "        175000.0     1\n",
       "        200000.0     1\n",
       "Name: earn, Length: 193, dtype: int64"
      ]
     },
     "execution_count": 23,
     "metadata": {},
     "output_type": "execute_result"
    }
   ],
   "source": [
    "#2.Compute and display the min, max, average, and median salary per gender. (12 pts)\n",
    "##...\n",
    "print(\"Salary per gender (unique values count)\")\n",
    "gender_counts = df.groupby('sex').earn.value_counts()\n",
    "gender_counts\n",
    "\n"
   ]
  },
  {
   "cell_type": "code",
   "execution_count": 24,
   "metadata": {},
   "outputs": [
    {
     "name": "stdout",
     "output_type": "stream",
     "text": [
      "Minimum salary per gender\n"
     ]
    },
    {
     "data": {
      "text/plain": [
       "sex\n",
       "female     200.0\n",
       "male      1000.0\n",
       "Name: earn, dtype: float64"
      ]
     },
     "execution_count": 24,
     "metadata": {},
     "output_type": "execute_result"
    }
   ],
   "source": [
    "print(\"Minimum salary per gender\")\n",
    "gender_counts = df.groupby('sex').earn.min()\n",
    "gender_counts\n"
   ]
  },
  {
   "cell_type": "code",
   "execution_count": 25,
   "metadata": {},
   "outputs": [
    {
     "name": "stdout",
     "output_type": "stream",
     "text": [
      "Maximum salary per gender\n"
     ]
    },
    {
     "data": {
      "text/plain": [
       "sex\n",
       "female    123000.0\n",
       "male      200000.0\n",
       "Name: earn, dtype: float64"
      ]
     },
     "execution_count": 25,
     "metadata": {},
     "output_type": "execute_result"
    }
   ],
   "source": [
    "print(\"Maximum salary per gender\")\n",
    "gender_counts = df.groupby('sex').earn.max()\n",
    "gender_counts"
   ]
  },
  {
   "cell_type": "code",
   "execution_count": 26,
   "metadata": {},
   "outputs": [
    {
     "name": "stdout",
     "output_type": "stream",
     "text": [
      "Average salary per gender\n"
     ]
    },
    {
     "data": {
      "text/plain": [
       "sex\n",
       "female    18280.195051\n",
       "male      29786.130693\n",
       "Name: earn, dtype: float64"
      ]
     },
     "execution_count": 26,
     "metadata": {},
     "output_type": "execute_result"
    }
   ],
   "source": [
    "print(\"Average salary per gender\")\n",
    "gender_counts_mean = df.groupby('sex').earn.mean()\n",
    "gender_counts_mean"
   ]
  },
  {
   "cell_type": "code",
   "execution_count": 27,
   "metadata": {},
   "outputs": [
    {
     "name": "stdout",
     "output_type": "stream",
     "text": [
      "Median salary per gender\n"
     ]
    },
    {
     "data": {
      "text/plain": [
       "sex\n",
       "female    15000.0\n",
       "male      25000.0\n",
       "Name: earn, dtype: float64"
      ]
     },
     "execution_count": 27,
     "metadata": {},
     "output_type": "execute_result"
    }
   ],
   "source": [
    "print(\"Median salary per gender\")\n",
    "gender_counts = df.groupby('sex').earn.median()\n",
    "gender_counts"
   ]
  },
  {
   "cell_type": "markdown",
   "metadata": {
    "colab_type": "text",
    "id": "34cWPF_jOKUQ"
   },
   "source": [
    "--------------------\n",
    "\n",
    "As you can possibly tell by now, this dataset may help us test hypotheses and answer questions related to possible sources of inequality associated with the salary distribution: gender, age, race, height. \n",
    "\n",
    "Let's assume, for the sake of argument, that the number of years of education should correlate well with a person's salary (this is clearly a weak argument and the plot and Pearson correlation coefficient computation above suggests that this is *not* the case) and that other suspiciously high (positive or negative) correlations could be interpreted as a sign of inequality."
   ]
  },
  {
   "cell_type": "markdown",
   "metadata": {
    "colab_type": "text",
    "id": "R1UaYIHoOKUR"
   },
   "source": [
    "---------------------\n",
    "\n",
    "At this point, formulate 3 different hypotheses that might suggest that the salary distribution is biased by factors such as ageism. \n",
    "\n",
    "Call these hypotheses H3, H4, and H5. \n",
    "\n",
    "**Be creative, but realistic! These should be reasonable hypotheses, not silly ones!**"
   ]
  },
  {
   "cell_type": "markdown",
   "metadata": {
    "colab_type": "text",
    "id": "n8odBiXoOKUR"
   },
   "source": [
    "## Your turn! (48+ points)\n",
    "\n",
    "Write Python code to test hypotheses H3, H4, and H5 (and some text to explain whether they were confirmed or not). Feel free to (also) use plots, but make your code independent of a human being interpreting those plots. (16 pts per hypothesis with additional <= 8 bonus points per hypotheses).  "
   ]
  },
  {
   "cell_type": "markdown",
   "metadata": {
    "colab_type": "text",
    "id": "tmUifCzY7gjz"
   },
   "source": [
    "H3: Seniors has highter salaries because their seniority."
   ]
  },
  {
   "cell_type": "code",
   "execution_count": 28,
   "metadata": {
    "colab": {},
    "colab_type": "code",
    "id": "YTdxHyvMOKUS"
   },
   "outputs": [
    {
     "data": {
      "text/plain": [
       "[15, 25, 65, 91]"
      ]
     },
     "execution_count": 28,
     "metadata": {},
     "output_type": "execute_result"
    }
   ],
   "source": [
    "bin_edges = [15, 25, 65, df.age.max()]\n",
    "bin_edges"
   ]
  },
  {
   "cell_type": "code",
   "execution_count": 29,
   "metadata": {},
   "outputs": [
    {
     "data": {
      "text/plain": [
       "['youth', 'adult', 'senior']"
      ]
     },
     "execution_count": 29,
     "metadata": {},
     "output_type": "execute_result"
    }
   ],
   "source": [
    "bin_names = [ 'youth', 'adult', 'senior']\n",
    "bin_names\n"
   ]
  },
  {
   "cell_type": "code",
   "execution_count": 30,
   "metadata": {},
   "outputs": [
    {
     "data": {
      "text/plain": [
       "adult     901\n",
       "youth     171\n",
       "senior    120\n",
       "Name: age_category, dtype: int64"
      ]
     },
     "execution_count": 30,
     "metadata": {},
     "output_type": "execute_result"
    }
   ],
   "source": [
    "df['age_category'] = pd.cut(df['age'], bin_edges, include_lowest=True, labels=bin_names)\n",
    "df.age_category.value_counts()"
   ]
  },
  {
   "cell_type": "code",
   "execution_count": 31,
   "metadata": {},
   "outputs": [
    {
     "data": {
      "text/plain": [
       "age_category\n",
       "youth     12657.690058\n",
       "adult     25798.997780\n",
       "senior    18259.400000\n",
       "Name: earn, dtype: float64"
      ]
     },
     "execution_count": 31,
     "metadata": {},
     "output_type": "execute_result"
    }
   ],
   "source": [
    "salary_by_age = df.groupby('age_category').earn.mean()\n",
    "salary_by_age"
   ]
  },
  {
   "cell_type": "code",
   "execution_count": 32,
   "metadata": {},
   "outputs": [
    {
     "data": {
      "text/plain": [
       "Text(0, 0.5, 'Salary')"
      ]
     },
     "execution_count": 32,
     "metadata": {},
     "output_type": "execute_result"
    },
    {
     "data": {
      "image/png": "[encoded data removed]",
      "text/plain": [
       "<Figure size 576x288 with 1 Axes>"
      ]
     },
     "metadata": {
      "needs_background": "light"
     },
     "output_type": "display_data"
    }
   ],
   "source": [
    "values = salary_by_age[:20]\n",
    "labels = salary_by_age.index[:20]\n",
    "values.plot(kind=\"bar\", x=labels, figsize=(8,4), color=\"#2077B4\")\n",
    "plt.title(\"Average of salary by age group\")\n",
    "plt.xlabel(\"Age Group\")\n",
    "plt.ylabel(\"Salary\")"
   ]
  },
  {
   "cell_type": "markdown",
   "metadata": {},
   "source": [
    "H3 is refuted. Adults has the highest average of salaries."
   ]
  },
  {
   "cell_type": "markdown",
   "metadata": {},
   "source": [
    "H4: Men salaries are higher than women salaries because they had more years of education"
   ]
  },
  {
   "cell_type": "code",
   "execution_count": 33,
   "metadata": {},
   "outputs": [
    {
     "name": "stdout",
     "output_type": "stream",
     "text": [
      "Years of education by gender\n"
     ]
    },
    {
     "data": {
      "text/plain": [
       "sex     ed\n",
       "female  12    255\n",
       "        14     99\n",
       "        16     91\n",
       "        13     73\n",
       "        15     40\n",
       "        18     37\n",
       "        17     36\n",
       "        10     15\n",
       "        11     13\n",
       "        8      11\n",
       "        9       9\n",
       "        5       3\n",
       "        6       3\n",
       "        3       1\n",
       "        4       1\n",
       "male    12    177\n",
       "        16     78\n",
       "        14     77\n",
       "        18     38\n",
       "        13     31\n",
       "        17     30\n",
       "        15     23\n",
       "        11     16\n",
       "        10     11\n",
       "        8      10\n",
       "        9       8\n",
       "        6       3\n",
       "        7       2\n",
       "        4       1\n",
       "Name: ed, dtype: int64"
      ]
     },
     "execution_count": 33,
     "metadata": {},
     "output_type": "execute_result"
    }
   ],
   "source": [
    "print(\"Years of education by gender\")\n",
    "yrs_ed_by_gender = df.groupby('sex').ed.value_counts()\n",
    "yrs_ed_by_gender"
   ]
  },
  {
   "cell_type": "code",
   "execution_count": 34,
   "metadata": {},
   "outputs": [
    {
     "data": {
      "text/plain": [
       "Text(0, 0.5, 'Number of people')"
      ]
     },
     "execution_count": 34,
     "metadata": {},
     "output_type": "execute_result"
    },
    {
     "data": {
      "image/png": "[encoded data removed]",
      "text/plain": [
       "<Figure size 432x288 with 1 Axes>"
      ]
     },
     "metadata": {
      "needs_background": "light"
     },
     "output_type": "display_data"
    }
   ],
   "source": [
    "var = df.groupby(['ed']).sex.value_counts()\n",
    "var.unstack().plot(kind='bar',stacked=True,  color=['orange','#2077B4'], grid=False)\n",
    "plt.title(\"Years of Education by gender\",fontsize=14)\n",
    "plt.xlabel(\"Years of education - Gender\",fontsize=14)\n",
    "plt.ylabel(\"Number of people\",fontsize=14)"
   ]
  },
  {
   "cell_type": "code",
   "execution_count": 35,
   "metadata": {},
   "outputs": [
    {
     "data": {
      "image/png": "[encoded data removed]",
      "text/plain": [
       "<Figure size 576x576 with 1 Axes>"
      ]
     },
     "metadata": {},
     "output_type": "display_data"
    }
   ],
   "source": [
    "colors = ['blue', 'orange']\n",
    "labels = ['female', 'male']\n",
    "plt.pie(gender_counts_mean, colors=colors, shadow=True, autopct='%1.1f%%')\n",
    "plt.title('Salary average: female vs male')\n",
    "plt.axis('equal');\n",
    "plt.legend(labels)\n",
    "fig = plt.gcf()\n",
    "fig.set_size_inches(8,8);"
   ]
  },
  {
   "cell_type": "markdown",
   "metadata": {},
   "source": [
    "H4 is refuted. Women had more years of education but they had lowest salaries."
   ]
  },
  {
   "cell_type": "markdown",
   "metadata": {},
   "source": [
    "H5 White people has the highest salaries"
   ]
  },
  {
   "cell_type": "code",
   "execution_count": 36,
   "metadata": {},
   "outputs": [
    {
     "name": "stdout",
     "output_type": "stream",
     "text": [
      "Salaries by race\n"
     ]
    },
    {
     "data": {
      "text/plain": [
       "race\n",
       "black        60000.0\n",
       "hispanic     55000.0\n",
       "other       110000.0\n",
       "white       200000.0\n",
       "Name: earn, dtype: float64"
      ]
     },
     "execution_count": 36,
     "metadata": {},
     "output_type": "execute_result"
    }
   ],
   "source": [
    "print(\"Salaries by race\")\n",
    "salaries_by_race= df.groupby('race').earn.max()\n",
    "salaries_by_race"
   ]
  },
  {
   "cell_type": "code",
   "execution_count": 37,
   "metadata": {},
   "outputs": [
    {
     "data": {
      "text/plain": [
       "Text(0, 0.5, 'Salary')"
      ]
     },
     "execution_count": 37,
     "metadata": {},
     "output_type": "execute_result"
    },
    {
     "data": {
      "image/png": "[encoded data removed]",
      "text/plain": [
       "<Figure size 576x288 with 1 Axes>"
      ]
     },
     "metadata": {
      "needs_background": "light"
     },
     "output_type": "display_data"
    }
   ],
   "source": [
    "values =salaries_by_race[:4]\n",
    "labels = salaries_by_race.index[:4]\n",
    "values.plot(kind=\"bar\", x=labels, figsize=(8,4), color=\"#2077B4\")\n",
    "plt.title(\"Highest salaries by race group\")\n",
    "plt.xlabel(\"Race Group\")\n",
    "plt.ylabel(\"Salary\")"
   ]
  },
  {
   "cell_type": "markdown",
   "metadata": {},
   "source": [
    "The hypothesis H5 is CONFIRMED."
   ]
  },
  {
   "cell_type": "markdown",
   "metadata": {
    "colab_type": "text",
    "id": "fiXV2xUI7lUZ"
   },
   "source": [
    "-------------------\n",
    "## Level 3: Fuel consumption"
   ]
  },
  {
   "cell_type": "markdown",
   "metadata": {
    "colab_type": "text",
    "id": "0EDk6NGk8YsH"
   },
   "source": [
    "The Python code below will load a dataset containing fuel consumption data for ~400 vehicles produced in the 1970s and the 1980s along with some characteristic information associated with each model. \n",
    "\n",
    "Here, *displacement* refers to a vehicle's engine size and the fuel efficiency is measured in miles per gallon (mpg).\n",
    "\n",
    "See:\n",
    "https://archive.ics.uci.edu/ml/datasets/Auto+MPG for additional information."
   ]
  },
  {
   "cell_type": "code",
   "execution_count": 38,
   "metadata": {
    "colab": {
     "base_uri": "https://localhost:8080/",
     "height": 34
    },
    "colab_type": "code",
    "id": "4dkSabDG5gjc",
    "outputId": "3c3cdd00-171e-4e91-9bcc-67f79eceeb70"
   },
   "outputs": [
    {
     "name": "stdout",
     "output_type": "stream",
     "text": [
      "(406, 9)\n"
     ]
    }
   ],
   "source": [
    "sns.set(style='ticks', palette='Set2')\n",
    "%matplotlib inline\n",
    "\n",
    "data = pd.read_csv(\"http://archive.ics.uci.edu/ml/machine-learning-databases/auto-mpg/auto-mpg.data-original\",\n",
    "                   delim_whitespace = True, header=None,\n",
    "                   names = ['mpg', 'cylinders', 'displacement', 'horsepower', 'weight', 'acceleration',\n",
    "                            'model', 'origin', 'car_name'])\n",
    "print(data.shape)"
   ]
  },
  {
   "cell_type": "code",
   "execution_count": 39,
   "metadata": {
    "colab": {
     "base_uri": "https://localhost:8080/",
     "height": 204
    },
    "colab_type": "code",
    "id": "WVNr-0SxD7Ai",
    "outputId": "c94ffa72-a01b-45b8-eb19-5b16b60f2798"
   },
   "outputs": [
    {
     "data": {
      "text/html": [
       "<div>\n",
       "<style scoped>\n",
       "    .dataframe tbody tr th:only-of-type {\n",
       "        vertical-align: middle;\n",
       "    }\n",
       "\n",
       "    .dataframe tbody tr th {\n",
       "        vertical-align: top;\n",
       "    }\n",
       "\n",
       "    .dataframe thead th {\n",
       "        text-align: right;\n",
       "    }\n",
       "</style>\n",
       "<table border=\"1\" class=\"dataframe\">\n",
       "  <thead>\n",
       "    <tr style=\"text-align: right;\">\n",
       "      <th></th>\n",
       "      <th>mpg</th>\n",
       "      <th>cylinders</th>\n",
       "      <th>displacement</th>\n",
       "      <th>horsepower</th>\n",
       "      <th>weight</th>\n",
       "      <th>acceleration</th>\n",
       "      <th>model</th>\n",
       "      <th>origin</th>\n",
       "      <th>car_name</th>\n",
       "    </tr>\n",
       "  </thead>\n",
       "  <tbody>\n",
       "    <tr>\n",
       "      <th>0</th>\n",
       "      <td>18.0</td>\n",
       "      <td>8.0</td>\n",
       "      <td>307.0</td>\n",
       "      <td>130.0</td>\n",
       "      <td>3504.0</td>\n",
       "      <td>12.0</td>\n",
       "      <td>70.0</td>\n",
       "      <td>1.0</td>\n",
       "      <td>chevrolet chevelle malibu</td>\n",
       "    </tr>\n",
       "    <tr>\n",
       "      <th>1</th>\n",
       "      <td>15.0</td>\n",
       "      <td>8.0</td>\n",
       "      <td>350.0</td>\n",
       "      <td>165.0</td>\n",
       "      <td>3693.0</td>\n",
       "      <td>11.5</td>\n",
       "      <td>70.0</td>\n",
       "      <td>1.0</td>\n",
       "      <td>buick skylark 320</td>\n",
       "    </tr>\n",
       "    <tr>\n",
       "      <th>2</th>\n",
       "      <td>18.0</td>\n",
       "      <td>8.0</td>\n",
       "      <td>318.0</td>\n",
       "      <td>150.0</td>\n",
       "      <td>3436.0</td>\n",
       "      <td>11.0</td>\n",
       "      <td>70.0</td>\n",
       "      <td>1.0</td>\n",
       "      <td>plymouth satellite</td>\n",
       "    </tr>\n",
       "    <tr>\n",
       "      <th>3</th>\n",
       "      <td>16.0</td>\n",
       "      <td>8.0</td>\n",
       "      <td>304.0</td>\n",
       "      <td>150.0</td>\n",
       "      <td>3433.0</td>\n",
       "      <td>12.0</td>\n",
       "      <td>70.0</td>\n",
       "      <td>1.0</td>\n",
       "      <td>amc rebel sst</td>\n",
       "    </tr>\n",
       "    <tr>\n",
       "      <th>4</th>\n",
       "      <td>17.0</td>\n",
       "      <td>8.0</td>\n",
       "      <td>302.0</td>\n",
       "      <td>140.0</td>\n",
       "      <td>3449.0</td>\n",
       "      <td>10.5</td>\n",
       "      <td>70.0</td>\n",
       "      <td>1.0</td>\n",
       "      <td>ford torino</td>\n",
       "    </tr>\n",
       "  </tbody>\n",
       "</table>\n",
       "</div>"
      ],
      "text/plain": [
       "    mpg  cylinders  displacement  horsepower  weight  acceleration  model  \\\n",
       "0  18.0        8.0         307.0       130.0  3504.0          12.0   70.0   \n",
       "1  15.0        8.0         350.0       165.0  3693.0          11.5   70.0   \n",
       "2  18.0        8.0         318.0       150.0  3436.0          11.0   70.0   \n",
       "3  16.0        8.0         304.0       150.0  3433.0          12.0   70.0   \n",
       "4  17.0        8.0         302.0       140.0  3449.0          10.5   70.0   \n",
       "\n",
       "   origin                   car_name  \n",
       "0     1.0  chevrolet chevelle malibu  \n",
       "1     1.0          buick skylark 320  \n",
       "2     1.0         plymouth satellite  \n",
       "3     1.0              amc rebel sst  \n",
       "4     1.0                ford torino  "
      ]
     },
     "execution_count": 39,
     "metadata": {},
     "output_type": "execute_result"
    }
   ],
   "source": [
    "data.dropna(inplace=True)\n",
    "data.head()"
   ]
  },
  {
   "cell_type": "markdown",
   "metadata": {
    "colab_type": "text",
    "id": "QtjTzR09-PyS"
   },
   "source": [
    "## Question 3 (6 points)\n",
    "\n",
    "What was the net effect of the line of code\n",
    "\n",
    "``data.dropna(inplace=True)``?"
   ]
  },
  {
   "cell_type": "markdown",
   "metadata": {
    "colab_type": "text",
    "id": "RRG5lAHB-PyV"
   },
   "source": [
    "## Solution"
   ]
  },
  {
   "cell_type": "markdown",
   "metadata": {
    "colab_type": "text",
    "id": "YxJNmDgn-PyW"
   },
   "source": [
    "(Pandas dropna() method allows the user to analyze and drop Rows/Columns with Null values in different ways. It also allows the use of some parameters such as axis, how, thresh, subset and inplace. The parameter inplace used in this line of code it is a boolean that makes the changes in data frame itself if True)"
   ]
  },
  {
   "cell_type": "markdown",
   "metadata": {
    "colab_type": "text",
    "id": "MArizMt0_P1A"
   },
   "source": [
    "## Your turn! (18+ points)\n",
    "\n",
    "Write code to:\n",
    "\n",
    "1. Count the number of 3- and 5-cylinder vehicles in the dataset, display the count, and discard those entries (rows). (12 pts)\n",
    "2. Compute and display the min, max, and average fuel consumption (in mpg) for 4-, 6-, and 8-cylinder vehicles. (6 pts)\n",
    "3. (OPTIONAL) Display the name of the most and least fuel efficient vehicles in the dataset (<= 4 points)\n"
   ]
  },
  {
   "cell_type": "markdown",
   "metadata": {
    "colab_type": "text",
    "id": "BTExQawjAIuU"
   },
   "source": [
    "## Solution"
   ]
  },
  {
   "cell_type": "markdown",
   "metadata": {},
   "source": [
    "#1.Count the number of 3- and 5-cylinder vehicles in the dataset, display the count, and discard those entries (rows). \n"
   ]
  },
  {
   "cell_type": "code",
   "execution_count": 40,
   "metadata": {},
   "outputs": [
    {
     "name": "stdout",
     "output_type": "stream",
     "text": [
      "Total cars with 3.0 cylinders: \n"
     ]
    },
    {
     "data": {
      "text/plain": [
       "4"
      ]
     },
     "execution_count": 40,
     "metadata": {},
     "output_type": "execute_result"
    }
   ],
   "source": [
    "print('Total cars with 3.0 cylinders: ')# counting cars with 3.0 cylinders\n",
    "data[data['cylinders']==3.0]['car_name'].count()"
   ]
  },
  {
   "cell_type": "code",
   "execution_count": 41,
   "metadata": {},
   "outputs": [
    {
     "name": "stdout",
     "output_type": "stream",
     "text": [
      "Total cars with 5.0 cylinders: \n"
     ]
    },
    {
     "data": {
      "text/plain": [
       "3"
      ]
     },
     "execution_count": 41,
     "metadata": {},
     "output_type": "execute_result"
    }
   ],
   "source": [
    "print('Total cars with 5.0 cylinders: ')# counting cars with 5.0 cylinders\n",
    "data[data['cylinders']==5.0]['car_name'].count()"
   ]
  },
  {
   "cell_type": "code",
   "execution_count": 42,
   "metadata": {},
   "outputs": [
    {
     "name": "stdout",
     "output_type": "stream",
     "text": [
      "      mpg  cylinders  displacement  horsepower  weight  acceleration  model  \\\n",
      "0    18.0        8.0         307.0       130.0  3504.0          12.0   70.0   \n",
      "1    15.0        8.0         350.0       165.0  3693.0          11.5   70.0   \n",
      "2    18.0        8.0         318.0       150.0  3436.0          11.0   70.0   \n",
      "3    16.0        8.0         304.0       150.0  3433.0          12.0   70.0   \n",
      "4    17.0        8.0         302.0       140.0  3449.0          10.5   70.0   \n",
      "5    15.0        8.0         429.0       198.0  4341.0          10.0   70.0   \n",
      "6    14.0        8.0         454.0       220.0  4354.0           9.0   70.0   \n",
      "7    14.0        8.0         440.0       215.0  4312.0           8.5   70.0   \n",
      "8    14.0        8.0         455.0       225.0  4425.0          10.0   70.0   \n",
      "9    15.0        8.0         390.0       190.0  3850.0           8.5   70.0   \n",
      "15   15.0        8.0         383.0       170.0  3563.0          10.0   70.0   \n",
      "16   14.0        8.0         340.0       160.0  3609.0           8.0   70.0   \n",
      "18   15.0        8.0         400.0       150.0  3761.0           9.5   70.0   \n",
      "19   14.0        8.0         455.0       225.0  3086.0          10.0   70.0   \n",
      "20   24.0        4.0         113.0        95.0  2372.0          15.0   70.0   \n",
      "21   22.0        6.0         198.0        95.0  2833.0          15.5   70.0   \n",
      "22   18.0        6.0         199.0        97.0  2774.0          15.5   70.0   \n",
      "23   21.0        6.0         200.0        85.0  2587.0          16.0   70.0   \n",
      "24   27.0        4.0          97.0        88.0  2130.0          14.5   70.0   \n",
      "25   26.0        4.0          97.0        46.0  1835.0          20.5   70.0   \n",
      "26   25.0        4.0         110.0        87.0  2672.0          17.5   70.0   \n",
      "27   24.0        4.0         107.0        90.0  2430.0          14.5   70.0   \n",
      "28   25.0        4.0         104.0        95.0  2375.0          17.5   70.0   \n",
      "29   26.0        4.0         121.0       113.0  2234.0          12.5   70.0   \n",
      "30   21.0        6.0         199.0        90.0  2648.0          15.0   70.0   \n",
      "31   10.0        8.0         360.0       215.0  4615.0          14.0   70.0   \n",
      "32   10.0        8.0         307.0       200.0  4376.0          15.0   70.0   \n",
      "33   11.0        8.0         318.0       210.0  4382.0          13.5   70.0   \n",
      "34    9.0        8.0         304.0       193.0  4732.0          18.5   70.0   \n",
      "35   27.0        4.0          97.0        88.0  2130.0          14.5   71.0   \n",
      "..    ...        ...           ...         ...     ...           ...    ...   \n",
      "375  28.0        4.0         112.0        88.0  2605.0          19.6   82.0   \n",
      "376  27.0        4.0         112.0        88.0  2640.0          18.6   82.0   \n",
      "377  34.0        4.0         112.0        88.0  2395.0          18.0   82.0   \n",
      "378  31.0        4.0         112.0        85.0  2575.0          16.2   82.0   \n",
      "379  29.0        4.0         135.0        84.0  2525.0          16.0   82.0   \n",
      "380  27.0        4.0         151.0        90.0  2735.0          18.0   82.0   \n",
      "381  24.0        4.0         140.0        92.0  2865.0          16.4   82.0   \n",
      "383  36.0        4.0         105.0        74.0  1980.0          15.3   82.0   \n",
      "384  37.0        4.0          91.0        68.0  2025.0          18.2   82.0   \n",
      "385  31.0        4.0          91.0        68.0  1970.0          17.6   82.0   \n",
      "386  38.0        4.0         105.0        63.0  2125.0          14.7   82.0   \n",
      "387  36.0        4.0          98.0        70.0  2125.0          17.3   82.0   \n",
      "388  36.0        4.0         120.0        88.0  2160.0          14.5   82.0   \n",
      "389  36.0        4.0         107.0        75.0  2205.0          14.5   82.0   \n",
      "390  34.0        4.0         108.0        70.0  2245.0          16.9   82.0   \n",
      "391  38.0        4.0          91.0        67.0  1965.0          15.0   82.0   \n",
      "392  32.0        4.0          91.0        67.0  1965.0          15.7   82.0   \n",
      "393  38.0        4.0          91.0        67.0  1995.0          16.2   82.0   \n",
      "394  25.0        6.0         181.0       110.0  2945.0          16.4   82.0   \n",
      "395  38.0        6.0         262.0        85.0  3015.0          17.0   82.0   \n",
      "396  26.0        4.0         156.0        92.0  2585.0          14.5   82.0   \n",
      "397  22.0        6.0         232.0       112.0  2835.0          14.7   82.0   \n",
      "398  32.0        4.0         144.0        96.0  2665.0          13.9   82.0   \n",
      "399  36.0        4.0         135.0        84.0  2370.0          13.0   82.0   \n",
      "400  27.0        4.0         151.0        90.0  2950.0          17.3   82.0   \n",
      "401  27.0        4.0         140.0        86.0  2790.0          15.6   82.0   \n",
      "402  44.0        4.0          97.0        52.0  2130.0          24.6   82.0   \n",
      "403  32.0        4.0         135.0        84.0  2295.0          11.6   82.0   \n",
      "404  28.0        4.0         120.0        79.0  2625.0          18.6   82.0   \n",
      "405  31.0        4.0         119.0        82.0  2720.0          19.4   82.0   \n",
      "\n",
      "     origin                           car_name  \n",
      "0       1.0          chevrolet chevelle malibu  \n",
      "1       1.0                  buick skylark 320  \n",
      "2       1.0                 plymouth satellite  \n",
      "3       1.0                      amc rebel sst  \n",
      "4       1.0                        ford torino  \n",
      "5       1.0                   ford galaxie 500  \n",
      "6       1.0                   chevrolet impala  \n",
      "7       1.0                  plymouth fury iii  \n",
      "8       1.0                   pontiac catalina  \n",
      "9       1.0                 amc ambassador dpl  \n",
      "15      1.0                dodge challenger se  \n",
      "16      1.0                 plymouth 'cuda 340  \n",
      "18      1.0              chevrolet monte carlo  \n",
      "19      1.0            buick estate wagon (sw)  \n",
      "20      3.0              toyota corona mark ii  \n",
      "21      1.0                    plymouth duster  \n",
      "22      1.0                         amc hornet  \n",
      "23      1.0                      ford maverick  \n",
      "24      3.0                       datsun pl510  \n",
      "25      2.0       volkswagen 1131 deluxe sedan  \n",
      "26      2.0                        peugeot 504  \n",
      "27      2.0                        audi 100 ls  \n",
      "28      2.0                           saab 99e  \n",
      "29      2.0                           bmw 2002  \n",
      "30      1.0                        amc gremlin  \n",
      "31      1.0                          ford f250  \n",
      "32      1.0                          chevy c20  \n",
      "33      1.0                         dodge d200  \n",
      "34      1.0                           hi 1200d  \n",
      "35      3.0                       datsun pl510  \n",
      "..      ...                                ...  \n",
      "375     1.0                 chevrolet cavalier  \n",
      "376     1.0           chevrolet cavalier wagon  \n",
      "377     1.0          chevrolet cavalier 2-door  \n",
      "378     1.0         pontiac j2000 se hatchback  \n",
      "379     1.0                     dodge aries se  \n",
      "380     1.0                    pontiac phoenix  \n",
      "381     1.0               ford fairmont futura  \n",
      "383     2.0                volkswagen rabbit l  \n",
      "384     3.0                 mazda glc custom l  \n",
      "385     3.0                   mazda glc custom  \n",
      "386     1.0             plymouth horizon miser  \n",
      "387     1.0                     mercury lynx l  \n",
      "388     3.0                   nissan stanza xe  \n",
      "389     3.0                       honda accord  \n",
      "390     3.0                     toyota corolla  \n",
      "391     3.0                        honda civic  \n",
      "392     3.0                 honda civic (auto)  \n",
      "393     3.0                      datsun 310 gx  \n",
      "394     1.0              buick century limited  \n",
      "395     1.0  oldsmobile cutlass ciera (diesel)  \n",
      "396     1.0         chrysler lebaron medallion  \n",
      "397     1.0                     ford granada l  \n",
      "398     3.0                   toyota celica gt  \n",
      "399     1.0                  dodge charger 2.2  \n",
      "400     1.0                   chevrolet camaro  \n",
      "401     1.0                    ford mustang gl  \n",
      "402     2.0                          vw pickup  \n",
      "403     1.0                      dodge rampage  \n",
      "404     1.0                        ford ranger  \n",
      "405     1.0                         chevy s-10  \n",
      "\n",
      "[385 rows x 9 columns]\n"
     ]
    }
   ],
   "source": [
    "#Discarding cylinders values 3.0 and 5.0\n",
    "\n",
    "#df = df[df.line_race != 0]\n",
    "data = data[data.cylinders !=3.0]\n",
    "data = data[data.cylinders !=5.0]\n",
    "print(data)"
   ]
  },
  {
   "cell_type": "code",
   "execution_count": 43,
   "metadata": {},
   "outputs": [
    {
     "name": "stdout",
     "output_type": "stream",
     "text": [
      "Minimun fuel consumption\n"
     ]
    },
    {
     "data": {
      "text/plain": [
       "cylinders\n",
       "4.0     68.0\n",
       "6.0    145.0\n",
       "8.0    260.0\n",
       "Name: displacement, dtype: float64"
      ]
     },
     "execution_count": 43,
     "metadata": {},
     "output_type": "execute_result"
    }
   ],
   "source": [
    "#2.Compute and display the min, max, and average fuel consumption (in mpg) for 4-, 6-, and 8-cylinder vehicles. (6 pts)\n",
    "print(\"Minimun fuel consumption\")\n",
    "min_fuel_consumption = data.groupby('cylinders').displacement.min()\n",
    "min_fuel_consumption"
   ]
  },
  {
   "cell_type": "code",
   "execution_count": 44,
   "metadata": {},
   "outputs": [
    {
     "name": "stdout",
     "output_type": "stream",
     "text": [
      "Maximun fuel consumption\n"
     ]
    },
    {
     "data": {
      "text/plain": [
       "cylinders\n",
       "4.0    156.0\n",
       "6.0    262.0\n",
       "8.0    455.0\n",
       "Name: displacement, dtype: float64"
      ]
     },
     "execution_count": 44,
     "metadata": {},
     "output_type": "execute_result"
    }
   ],
   "source": [
    "print(\"Maximun fuel consumption\")\n",
    "max_fuel_consumption = data.groupby('cylinders').displacement.max()\n",
    "max_fuel_consumption"
   ]
  },
  {
   "cell_type": "code",
   "execution_count": 45,
   "metadata": {},
   "outputs": [
    {
     "name": "stdout",
     "output_type": "stream",
     "text": [
      "Average fuel consumption\n"
     ]
    },
    {
     "data": {
      "text/plain": [
       "cylinders\n",
       "4.0    109.670854\n",
       "6.0    218.361446\n",
       "8.0    345.009709\n",
       "Name: displacement, dtype: float64"
      ]
     },
     "execution_count": 45,
     "metadata": {},
     "output_type": "execute_result"
    }
   ],
   "source": [
    "print(\"Average fuel consumption\")\n",
    "avg_fuel_consumption = data.groupby('cylinders').displacement.mean()\n",
    "avg_fuel_consumption"
   ]
  },
  {
   "cell_type": "code",
   "execution_count": 46,
   "metadata": {},
   "outputs": [
    {
     "name": "stdout",
     "output_type": "stream",
     "text": [
      "Minimum mpg: \n",
      "9.0\n",
      "Maximun mpg: \n",
      "46.6\n"
     ]
    }
   ],
   "source": [
    "#Min and Max. calculation for least and most fuel efficient\n",
    "print(\"Minimum mpg: \")\n",
    "print(data['mpg'].min())\n",
    "print(\"Maximun mpg: \")\n",
    "print(data['mpg'].max())"
   ]
  },
  {
   "cell_type": "code",
   "execution_count": 47,
   "metadata": {},
   "outputs": [
    {
     "name": "stdout",
     "output_type": "stream",
     "text": [
      "Most fuel efficient vehicles in the dataset\n"
     ]
    },
    {
     "data": {
      "text/plain": [
       "34    hi 1200d\n",
       "Name: car_name, dtype: object"
      ]
     },
     "execution_count": 47,
     "metadata": {},
     "output_type": "execute_result"
    }
   ],
   "source": [
    "#3.(OPTIONAL) Display the name of the most and least fuel efficient vehicles in the dataset (<= 4 points)\n",
    "\n",
    "print(\"Most fuel efficient vehicles in the dataset\")\n",
    "data[data['mpg']== 9.0]['car_name']"
   ]
  },
  {
   "cell_type": "code",
   "execution_count": 48,
   "metadata": {},
   "outputs": [
    {
     "name": "stdout",
     "output_type": "stream",
     "text": [
      "Least fuel efficient vehicles in the dataset\n"
     ]
    },
    {
     "data": {
      "text/plain": [
       "329    mazda glc\n",
       "Name: car_name, dtype: object"
      ]
     },
     "execution_count": 48,
     "metadata": {},
     "output_type": "execute_result"
    }
   ],
   "source": [
    "print(\"Least fuel efficient vehicles in the dataset\")\n",
    "data[data['mpg']== 46.6]['car_name']"
   ]
  },
  {
   "cell_type": "markdown",
   "metadata": {
    "colab_type": "text",
    "id": "KCU0fOaqAaIJ"
   },
   "source": [
    "--------------------\n",
    "\n",
    "This dataset may help us test hypotheses and answer questions related to fuel consumption. \n",
    "\n",
    "To get started: Which features of a vehicle correlate best with its mpg --  *displacement*, *weight*, or *horsepower*?"
   ]
  },
  {
   "cell_type": "markdown",
   "metadata": {
    "colab_type": "text",
    "id": "rzrD2ZFgAaIM"
   },
   "source": [
    "## Your turn! (48 points)\n",
    "\n",
    "Write Python code to plot the relationship between:\n",
    "\n",
    "1. Fuel consumption and displacement (engine size)\n",
    "2. Fuel consumption and weight\n",
    "3. Fuel consumption and horsepower (HP)\n"
   ]
  },
  {
   "cell_type": "markdown",
   "metadata": {
    "colab_type": "text",
    "id": "12jR1y-0AaIN"
   },
   "source": [
    "## Solution"
   ]
  },
  {
   "cell_type": "code",
   "execution_count": 49,
   "metadata": {
    "colab": {},
    "colab_type": "code",
    "id": "MEXtqJIsAaIO"
   },
   "outputs": [
    {
     "name": "stdout",
     "output_type": "stream",
     "text": [
      "Correlation between mpg and displacement: \n"
     ]
    },
    {
     "data": {
      "text/plain": [
       "-0.8178873629400591"
      ]
     },
     "execution_count": 49,
     "metadata": {},
     "output_type": "execute_result"
    },
    {
     "data": {
      "image/png": "[encoded data removed]",
      "text/plain": [
       "<Figure size 360x360 with 1 Axes>"
      ]
     },
     "metadata": {
      "needs_background": "light"
     },
     "output_type": "display_data"
    }
   ],
   "source": [
    "#1. Fuel consumption and displacement (engine size)\n",
    "var = 'displacement'\n",
    "plot = sns.lmplot(var,'mpg',data=data)\n",
    "plot.set(ylim = (0,50))\n",
    "print(\"Correlation between mpg and displacement: \")\n",
    "data['mpg'].corr(data['displacement'])"
   ]
  },
  {
   "cell_type": "code",
   "execution_count": 50,
   "metadata": {},
   "outputs": [
    {
     "name": "stdout",
     "output_type": "stream",
     "text": [
      "Correlation between mpg and weight: \n"
     ]
    },
    {
     "data": {
      "text/plain": [
       "-0.8426809031318666"
      ]
     },
     "execution_count": 50,
     "metadata": {},
     "output_type": "execute_result"
    },
    {
     "data": {
      "image/png": "[encoded data removed]",
      "text/plain": [
       "<Figure size 360x360 with 1 Axes>"
      ]
     },
     "metadata": {
      "needs_background": "light"
     },
     "output_type": "display_data"
    }
   ],
   "source": [
    "#2.Fuel consumption and weight\n",
    "var = 'weight'\n",
    "plot = sns.lmplot(var,'mpg',data=data)\n",
    "plot.set(ylim = (0,50))\n",
    "print(\"Correlation between mpg and weight: \")\n",
    "data['mpg'].corr(data['weight'])"
   ]
  },
  {
   "cell_type": "code",
   "execution_count": 51,
   "metadata": {},
   "outputs": [
    {
     "name": "stdout",
     "output_type": "stream",
     "text": [
      "Correlation between mpg and horsepowert: \n"
     ]
    },
    {
     "data": {
      "text/plain": [
       "-0.780258815732239"
      ]
     },
     "execution_count": 51,
     "metadata": {},
     "output_type": "execute_result"
    },
    {
     "data": {
      "image/png": "[encoded data removed]",
      "text/plain": [
       "<Figure size 360x360 with 1 Axes>"
      ]
     },
     "metadata": {
      "needs_background": "light"
     },
     "output_type": "display_data"
    }
   ],
   "source": [
    "#3.Fuel consumption and horsepower (HP)\n",
    "var = 'horsepower'\n",
    "plot = sns.lmplot(var,'mpg',data=data)\n",
    "plot.set(ylim = (0,50))\n",
    "print(\"Correlation between mpg and horsepowert: \")\n",
    "data['mpg'].corr(data['horsepower'])"
   ]
  },
  {
   "cell_type": "markdown",
   "metadata": {
    "colab_type": "text",
    "id": "_VPbGcGrFSEH"
   },
   "source": [
    "## Questions 4-6 (30 points, i.e. 10 points each)\n",
    "\n",
    "For each of the three cases above, use the plots to answer the questions below:\n",
    "\n",
    "4. Is there a correlation between mpg and displacement? If so: is it positive or negative? linear or non-linear?\n",
    "5. Is there a correlation between mpg and weight? If so: is it positive or negative? linear or non-linear?\n",
    "6. Is there a correlation between mpg and horsepower? If so: is it positive or negative? linear or non-linear?\n",
    "\n"
   ]
  },
  {
   "cell_type": "markdown",
   "metadata": {
    "colab_type": "text",
    "id": "lLqwEM9sDI0E"
   },
   "source": [
    "## Solution"
   ]
  },
  {
   "cell_type": "markdown",
   "metadata": {
    "colab_type": "text",
    "id": "UJwFE9B9DI0H"
   },
   "source": [
    "ANSWERS:\n",
    "\n",
    "4.There is a correlation between mpg and displacement.It is negative and tends to be lineal because it is closer to -1 than 0.\n",
    "\n",
    "5.There is a correlation between mpg and weight.It is negative and tends to be lineal because it is closer to -1 than 0.\n",
    "\n",
    "6.There is a correlation between mpg and horsepower.It is negative and tends to be lineal because it is closer to -1 than 0."
   ]
  },
  {
   "cell_type": "markdown",
   "metadata": {
    "colab_type": "text",
    "id": "0n9yctP0CmC9"
   },
   "source": [
    "## Questions 7-8 (30 points, i.e. 15 points each)\n",
    "\n",
    "Write Python code to produce (box)plots that should provide good answers the questions below:\n",
    "\n",
    "7. Did vehicles get more efficient over the years (represented in this dataset, i.e., 1970 through 1982)?\n",
    "8. Are Japanese cars more fuel efficient than American or European ones?\n",
    "\n",
    "Hint: \n",
    "\n",
    "``data['Country_code'] = data.origin.replace([1,2,3],['USA','Europe','Japan'])``\n",
    "\n"
   ]
  },
  {
   "cell_type": "markdown",
   "metadata": {
    "colab_type": "text",
    "id": "fK18FNLpIRW9"
   },
   "source": [
    "## Solution"
   ]
  },
  {
   "cell_type": "code",
   "execution_count": 52,
   "metadata": {},
   "outputs": [
    {
     "name": "stdout",
     "output_type": "stream",
     "text": [
      "Average of car efficiency over the years:\n"
     ]
    },
    {
     "data": {
      "text/plain": [
       "model\n",
       "70.0    17.689655\n",
       "71.0    21.111111\n",
       "72.0    18.703704\n",
       "73.0    17.076923\n",
       "74.0    22.769231\n",
       "75.0    20.266667\n",
       "76.0    21.573529\n",
       "77.0    23.444444\n",
       "78.0    24.168571\n",
       "79.0    25.082143\n",
       "80.0    34.104000\n",
       "81.0    30.185714\n",
       "82.0    32.000000\n",
       "Name: mpg, dtype: float64"
      ]
     },
     "execution_count": 52,
     "metadata": {},
     "output_type": "execute_result"
    }
   ],
   "source": [
    "print(\"Average of car efficiency over the years:\")\n",
    "model_counts = data.groupby('model').mpg.mean()\n",
    "model_counts\n"
   ]
  },
  {
   "cell_type": "code",
   "execution_count": 53,
   "metadata": {},
   "outputs": [
    {
     "data": {
      "image/png": "[encoded data removed]",
      "text/plain": [
       "<Figure size 1440x720 with 1 Axes>"
      ]
     },
     "metadata": {
      "needs_background": "light"
     },
     "output_type": "display_data"
    }
   ],
   "source": [
    "plt.rcParams['figure.figsize']=(20,10)\n",
    "ax = sns.boxplot(x=\"model\", y=\"mpg\", data=data)"
   ]
  },
  {
   "cell_type": "markdown",
   "metadata": {},
   "source": [
    "Conclusion:Cars tend to be more efficient over the years."
   ]
  },
  {
   "cell_type": "code",
   "execution_count": 54,
   "metadata": {},
   "outputs": [
    {
     "data": {
      "text/html": [
       "<div>\n",
       "<style scoped>\n",
       "    .dataframe tbody tr th:only-of-type {\n",
       "        vertical-align: middle;\n",
       "    }\n",
       "\n",
       "    .dataframe tbody tr th {\n",
       "        vertical-align: top;\n",
       "    }\n",
       "\n",
       "    .dataframe thead th {\n",
       "        text-align: right;\n",
       "    }\n",
       "</style>\n",
       "<table border=\"1\" class=\"dataframe\">\n",
       "  <thead>\n",
       "    <tr style=\"text-align: right;\">\n",
       "      <th></th>\n",
       "      <th>mpg</th>\n",
       "      <th>cylinders</th>\n",
       "      <th>displacement</th>\n",
       "      <th>horsepower</th>\n",
       "      <th>weight</th>\n",
       "      <th>acceleration</th>\n",
       "      <th>model</th>\n",
       "      <th>origin</th>\n",
       "      <th>car_name</th>\n",
       "      <th>Country_code</th>\n",
       "    </tr>\n",
       "  </thead>\n",
       "  <tbody>\n",
       "    <tr>\n",
       "      <th>0</th>\n",
       "      <td>18.0</td>\n",
       "      <td>8.0</td>\n",
       "      <td>307.0</td>\n",
       "      <td>130.0</td>\n",
       "      <td>3504.0</td>\n",
       "      <td>12.0</td>\n",
       "      <td>70.0</td>\n",
       "      <td>1.0</td>\n",
       "      <td>chevrolet chevelle malibu</td>\n",
       "      <td>USA</td>\n",
       "    </tr>\n",
       "    <tr>\n",
       "      <th>1</th>\n",
       "      <td>15.0</td>\n",
       "      <td>8.0</td>\n",
       "      <td>350.0</td>\n",
       "      <td>165.0</td>\n",
       "      <td>3693.0</td>\n",
       "      <td>11.5</td>\n",
       "      <td>70.0</td>\n",
       "      <td>1.0</td>\n",
       "      <td>buick skylark 320</td>\n",
       "      <td>USA</td>\n",
       "    </tr>\n",
       "    <tr>\n",
       "      <th>2</th>\n",
       "      <td>18.0</td>\n",
       "      <td>8.0</td>\n",
       "      <td>318.0</td>\n",
       "      <td>150.0</td>\n",
       "      <td>3436.0</td>\n",
       "      <td>11.0</td>\n",
       "      <td>70.0</td>\n",
       "      <td>1.0</td>\n",
       "      <td>plymouth satellite</td>\n",
       "      <td>USA</td>\n",
       "    </tr>\n",
       "    <tr>\n",
       "      <th>3</th>\n",
       "      <td>16.0</td>\n",
       "      <td>8.0</td>\n",
       "      <td>304.0</td>\n",
       "      <td>150.0</td>\n",
       "      <td>3433.0</td>\n",
       "      <td>12.0</td>\n",
       "      <td>70.0</td>\n",
       "      <td>1.0</td>\n",
       "      <td>amc rebel sst</td>\n",
       "      <td>USA</td>\n",
       "    </tr>\n",
       "    <tr>\n",
       "      <th>4</th>\n",
       "      <td>17.0</td>\n",
       "      <td>8.0</td>\n",
       "      <td>302.0</td>\n",
       "      <td>140.0</td>\n",
       "      <td>3449.0</td>\n",
       "      <td>10.5</td>\n",
       "      <td>70.0</td>\n",
       "      <td>1.0</td>\n",
       "      <td>ford torino</td>\n",
       "      <td>USA</td>\n",
       "    </tr>\n",
       "  </tbody>\n",
       "</table>\n",
       "</div>"
      ],
      "text/plain": [
       "    mpg  cylinders  displacement  horsepower  weight  acceleration  model  \\\n",
       "0  18.0        8.0         307.0       130.0  3504.0          12.0   70.0   \n",
       "1  15.0        8.0         350.0       165.0  3693.0          11.5   70.0   \n",
       "2  18.0        8.0         318.0       150.0  3436.0          11.0   70.0   \n",
       "3  16.0        8.0         304.0       150.0  3433.0          12.0   70.0   \n",
       "4  17.0        8.0         302.0       140.0  3449.0          10.5   70.0   \n",
       "\n",
       "   origin                   car_name Country_code  \n",
       "0     1.0  chevrolet chevelle malibu          USA  \n",
       "1     1.0          buick skylark 320          USA  \n",
       "2     1.0         plymouth satellite          USA  \n",
       "3     1.0              amc rebel sst          USA  \n",
       "4     1.0                ford torino          USA  "
      ]
     },
     "execution_count": 54,
     "metadata": {},
     "output_type": "execute_result"
    }
   ],
   "source": [
    "data['Country_code'] = data.origin.replace([1,2,3],['USA','Europe','Japan'])\n",
    "data.head()"
   ]
  },
  {
   "cell_type": "code",
   "execution_count": 55,
   "metadata": {},
   "outputs": [
    {
     "name": "stdout",
     "output_type": "stream",
     "text": [
      "Comparison of car efficiency between USA, Europe and Japan(average):\n"
     ]
    },
    {
     "data": {
      "text/plain": [
       "Country_code\n",
       "Europe    27.613846\n",
       "Japan     30.978667\n",
       "USA       20.033469\n",
       "Name: mpg, dtype: float64"
      ]
     },
     "execution_count": 55,
     "metadata": {},
     "output_type": "execute_result"
    }
   ],
   "source": [
    "print(\"Comparison of car efficiency between USA, Europe and Japan(average):\")\n",
    "Country_code_counts = data.groupby('Country_code').mpg.mean()\n",
    "Country_code_counts"
   ]
  },
  {
   "cell_type": "code",
   "execution_count": 56,
   "metadata": {},
   "outputs": [
    {
     "data": {
      "image/png": "[encoded data removed]",
      "text/plain": [
       "<Figure size 1656x720 with 1 Axes>"
      ]
     },
     "metadata": {
      "needs_background": "light"
     },
     "output_type": "display_data"
    }
   ],
   "source": [
    "plt.rcParams['figure.figsize']=(23,10)\n",
    "ax = sns.boxplot(x=\"Country_code\", y=\"mpg\", data=data)"
   ]
  },
  {
   "cell_type": "markdown",
   "metadata": {},
   "source": [
    "Conclusion: Japanese cars are more efficient than European and American cars. Also, European cars are more efficient than American."
   ]
  },
  {
   "cell_type": "markdown",
   "metadata": {
    "colab_type": "text",
    "id": "GLi0m9uuKkpD"
   },
   "source": [
    "## Conclusions (36 points)\n",
    "\n",
    "Write your conclusions and make sure to address the issues below:\n",
    "- What have you learned from this assignment?\n",
    "- Which parts were the most fun, time-consuming, enlightening, tedious?\n",
    "- What would you do if you had an additional week to work on this?"
   ]
  },
  {
   "cell_type": "markdown",
   "metadata": {
    "colab_type": "text",
    "id": "tmRWLHo5K99F"
   },
   "source": [
    "## Solution"
   ]
  },
  {
   "cell_type": "markdown",
   "metadata": {
    "colab_type": "text",
    "id": "ug_U9rd3K99G"
   },
   "source": [
    "(CONCLUSIONS)\n",
    "\n",
    "1.I learned how to answer questions using Python, Numpy and Pandas. In addition, I learned how to show the results using different kinds of graphs. Furthermore, I learned some new statistics concepts such as Pearson coefficient,correlation, positive and negative correlation, and lineal and non lineal correallation among others. \n",
    "\n",
    "2.The part that I enjoy most was the last exercise where I must find out the most efficient cars over the years (1970-1982). The most time - consuming task was formulate the H3, H4 and H5. The most tedious part was found out how to graph a comparison graph to display the education years between women and men.\n",
    "\n",
    "3.If I had an additional week to work in this assignment, I will add more details to every exercise and I will learn more about correlation and statistics\n",
    "\n"
   ]
  }
 ],
 "metadata": {
  "colab": {
   "collapsed_sections": [
    "Sf9JB_ntOKTg"
   ],
   "name": "CAP5768_Assignment1_FINAL.ipynb",
   "provenance": [],
   "version": "0.3.2"
  },
  "kernelspec": {
   "display_name": "Python 3",
   "language": "python",
   "name": "python3"
  },
  "language_info": {
   "codemirror_mode": {
    "name": "ipython",
    "version": 3
   },
   "file_extension": ".py",
   "mimetype": "text/x-python",
   "name": "python",
   "nbconvert_exporter": "python",
   "pygments_lexer": "ipython3",
   "version": "3.7.4"
  }
 },
 "nbformat": 4,
 "nbformat_minor": 1
}
